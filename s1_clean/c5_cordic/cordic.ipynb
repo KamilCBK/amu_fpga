{
 "cells": [
  {
   "cell_type": "code",
   "execution_count": 4,
   "metadata": {},
   "outputs": [
    {
     "name": "stdout",
     "output_type": "stream",
     "text": [
      "0.6072529350088814\n",
      "0.4769353398736855\n",
      "  x       sin(x)     diff. sine     cos(x)    diff. cosine \n",
      "-90.0°  -1.00000000 (+0.00000000) -0.00001759 (-0.00001759)\n",
      "-75.0°  -0.96592181 (+0.00000402) +0.25883404 (+0.00001499)\n",
      "-60.0°  -0.86601812 (+0.00000729) +0.50001262 (+0.00001262)\n",
      "-45.0°  -0.70711776 (-0.00001098) +0.70709580 (-0.00001098)\n",
      "-30.0°  -0.50001262 (-0.00001262) +0.86601812 (-0.00000729)\n",
      "-15.0°  -0.25883404 (-0.00001499) +0.96592181 (-0.00000402)\n",
      "+00.0°  +0.00001759 (+0.00001759) +1.00000000 (-0.00000000)\n",
      "+15.0°  +0.25883404 (+0.00001499) +0.96592181 (-0.00000402)\n",
      "+30.0°  +0.50001262 (+0.00001262) +0.86601812 (-0.00000729)\n",
      "+45.0°  +0.70709580 (-0.00001098) +0.70711776 (+0.00001098)\n",
      "+60.0°  +0.86601812 (-0.00000729) +0.50001262 (+0.00001262)\n",
      "+75.0°  +0.96592181 (-0.00000402) +0.25883404 (+0.00001499)\n",
      "+90.0°  +1.00000000 (-0.00000000) -0.00001759 (-0.00001759)\n"
     ]
    }
   ],
   "source": [
    "from math import atan2, sqrt, sin, cos, radians\n",
    "\n",
    "ITERS = 16\n",
    "theta_table = [atan2(1, 2**i) for i in range(ITERS)]\n",
    "\n",
    "def compute_K(n):\n",
    "    \"\"\"\n",
    "    Compute K(n) for n = ITERS. This could also be\n",
    "    stored as an explicit constant if ITERS above is fixed.\n",
    "    \"\"\"\n",
    "    k = 1.0\n",
    "    for i in range(n):\n",
    "        k *= 1 / sqrt(1 + 2 ** (-2 * i))\n",
    "    return k\n",
    "\n",
    "def CORDIC(alpha, n):\n",
    "    K_n = compute_K(n)\n",
    "    theta = 0.0\n",
    "    x = 1.0\n",
    "    y = 0.0\n",
    "    P2i = 1  # This will be 2**(-i) in the loop below\n",
    "    for arc_tangent in theta_table:\n",
    "        sigma = +1 if theta < alpha else -1\n",
    "        theta += sigma * arc_tangent\n",
    "        x, y = x - sigma * y * P2i, sigma * P2i * x + y\n",
    "        P2i /= 2\n",
    "    return x * K_n, y * K_n\n",
    "\n",
    "if __name__ == \"__main__\":\n",
    "    # Print a table of computed sines and cosines, from -90° to +90°, in steps of 15°,\n",
    "    # comparing against the available math routines.\n",
    "    print(compute_K(32))\n",
    "    print(compute_K(32)*atan2(1,1))\n",
    "\n",
    "    print(\"  x       sin(x)     diff. sine     cos(x)    diff. cosine \")\n",
    "    for x in range(-90, 91, 15):\n",
    "        cos_x, sin_x = CORDIC(radians(x), ITERS)\n",
    "        print(\n",
    "            f\"{x:+05.1f}°  {sin_x:+.8f} ({sin_x-sin(radians(x)):+.8f}) {cos_x:+.8f} ({cos_x-cos(radians(x)):+.8f})\"\n",
    "        )\n",
    "        "
   ]
  }
 ],
 "metadata": {
  "kernelspec": {
   "display_name": "Python 3",
   "language": "python",
   "name": "python3"
  },
  "language_info": {
   "codemirror_mode": {
    "name": "ipython",
    "version": 3
   },
   "file_extension": ".py",
   "mimetype": "text/x-python",
   "name": "python",
   "nbconvert_exporter": "python",
   "pygments_lexer": "ipython3",
   "version": "3.12.4"
  }
 },
 "nbformat": 4,
 "nbformat_minor": 2
}
